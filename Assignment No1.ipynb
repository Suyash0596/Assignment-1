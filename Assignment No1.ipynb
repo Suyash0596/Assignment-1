{
 "cells": [
  {
   "cell_type": "code",
   "execution_count": 17,
   "id": "d9df984b-9b60-4136-a83b-3cbedb957b20",
   "metadata": {},
   "outputs": [],
   "source": [
    " # Answer 1\n",
    "    \n",
    "i = \"Hello\"\n",
    "ii = [1,2,'asd']\n",
    "iii = \"34.654\"\n",
    "iv = ([1,3.12],23.56,\"asdf\")\n",
    "\n",
    "\n"
   ]
  },
  {
   "cell_type": "code",
   "execution_count": null,
   "id": "d85fe228-4134-473c-b27f-02e9510f7c7a",
   "metadata": {},
   "outputs": [],
   "source": [
    " # Answer 2\n",
    "i= String\n",
    "ii = String\n",
    "iii = List\n",
    "iv = Float"
   ]
  },
  {
   "cell_type": "code",
   "execution_count": null,
   "id": "5de705de-a992-4f26-8db2-b4fd6679f31a",
   "metadata": {},
   "outputs": [],
   "source": [
    "# Answer 3\n",
    "i. It will return the Quotient, Example 4/2 will return 2\n",
    "ii. it will return the remainder, Example 4%2 will return 0\n",
    "iii. it Returns the number of time the division happens, Example,4/2 will return 2, 4/4 will return 1\n",
    "iv. it gives the power, Example 10**3 is 10 to the power 3\n",
    "\n"
   ]
  },
  {
   "cell_type": "code",
   "execution_count": 50,
   "id": "1bb0548d-1b45-445d-9a9a-befef8a93467",
   "metadata": {},
   "outputs": [
    {
     "name": "stdout",
     "output_type": "stream",
     "text": [
      "2        Type  <class 'int'>\n",
      "4        Type  <class 'int'>\n",
      "asd        Type  <class 'str'>\n",
      "3.45        Type  <class 'float'>\n",
      "zxc        Type  <class 'str'>\n",
      "23        Type  <class 'int'>\n",
      "(4+2j)        Type  <class 'complex'>\n",
      "asdfghj        Type  <class 'str'>\n",
      "67        Type  <class 'int'>\n",
      "tyu        Type  <class 'str'>\n"
     ]
    }
   ],
   "source": [
    "# Answer 4\n",
    "a= (2,4,\"asd\",3.45,\"zxc\",23,4+2j,\"asdfghj\",67,\"tyu\")\n",
    "for i in a :\n",
    "    print(i,\"       Type \",type(i))"
   ]
  },
  {
   "cell_type": "code",
   "execution_count": 72,
   "id": "4c4274dc-3fb4-4a4c-bc94-79c55746736d",
   "metadata": {},
   "outputs": [
    {
     "name": "stdout",
     "output_type": "stream",
     "text": [
      "10  is divisible with 2  by 5.0 times\n"
     ]
    }
   ],
   "source": [
    "# Answer 5\n",
    "a=10\n",
    "b=2\n",
    "\n",
    "while (a%b)==0 :\n",
    "    print (a,\" is divisible with\",b,\" by\",a/b, \"times\")\n",
    "    break"
   ]
  },
  {
   "cell_type": "code",
   "execution_count": 75,
   "id": "63cb1cf8-cce5-4b7f-b39b-8cad25539cf7",
   "metadata": {},
   "outputs": [
    {
     "name": "stdout",
     "output_type": "stream",
     "text": [
      "10 is Not divisible by 3\n",
      "12 is divisible by 3\n",
      "34 is Not divisible by 3\n",
      "25 is Not divisible by 3\n",
      "34 is Not divisible by 3\n",
      "65 is Not divisible by 3\n",
      "26 is Not divisible by 3\n",
      "56 is Not divisible by 3\n",
      "87 is divisible by 3\n",
      "55 is Not divisible by 3\n",
      "16 is Not divisible by 3\n",
      "53 is Not divisible by 3\n",
      "75 is divisible by 3\n",
      "87 is divisible by 3\n",
      "24 is divisible by 3\n",
      "57 is divisible by 3\n",
      "90 is divisible by 3\n",
      "87 is divisible by 3\n",
      "34 is Not divisible by 3\n",
      "678 is divisible by 3\n",
      "865 is Not divisible by 3\n",
      "234 is divisible by 3\n",
      "654 is divisible by 3\n",
      "267 is divisible by 3\n",
      "444 is divisible by 3\n"
     ]
    }
   ],
   "source": [
    "# Answer 6\n",
    "a = (10,12,34,25,34,65,26,56,87,55,16,53,75,87,24,57,90,87,34,678,865,234,654,267,444)\n",
    "\n",
    "for i in a :\n",
    "    if (i%3)==0 :\n",
    "        print(i,\"is divisible by 3\")\n",
    "    else :\n",
    "        print(i,\"is Not divisible by 3\") \n",
    "    "
   ]
  },
  {
   "cell_type": "code",
   "execution_count": 85,
   "id": "b0220178-10a7-4d9f-a062-0dbc7d7ab2bd",
   "metadata": {},
   "outputs": [
    {
     "name": "stdout",
     "output_type": "stream",
     "text": [
      "['suyash', 234, 'asd', 56.87]\n",
      "['suyash', 234, 'asd', 56.87, 'fgh']\n",
      "['suyash', 'asd', 56.87, 'fgh']\n"
     ]
    }
   ],
   "source": [
    "# Answer 7\n",
    "\n",
    "'''Mutable data types can modified at any time,\n",
    "\n",
    "Example'''\n",
    "a=[\"suyash\",234,\"asd\",56.87]\n",
    "\n",
    "print(a)\n",
    "\n",
    "a.append(\"fgh\")\n",
    "\n",
    "print(a)\n",
    "\n",
    "a.remove(234)\n",
    "print(a)\n",
    "\n",
    "\n",
    "\n",
    "\n"
   ]
  },
  {
   "cell_type": "code",
   "execution_count": 87,
   "id": "ef83817f-361e-4af8-abd3-4077ecf5dca7",
   "metadata": {},
   "outputs": [],
   "source": [
    "'''Unmutable data types cannot be modifed\n",
    "\n",
    "Example'''\n",
    "a=\"Suyash\""
   ]
  },
  {
   "cell_type": "code",
   "execution_count": null,
   "id": "4b5e6179-9158-4faa-91cc-5ff82c92f9f3",
   "metadata": {},
   "outputs": [],
   "source": []
  }
 ],
 "metadata": {
  "kernelspec": {
   "display_name": "Python 3 (ipykernel)",
   "language": "python",
   "name": "python3"
  },
  "language_info": {
   "codemirror_mode": {
    "name": "ipython",
    "version": 3
   },
   "file_extension": ".py",
   "mimetype": "text/x-python",
   "name": "python",
   "nbconvert_exporter": "python",
   "pygments_lexer": "ipython3",
   "version": "3.10.8"
  }
 },
 "nbformat": 4,
 "nbformat_minor": 5
}
