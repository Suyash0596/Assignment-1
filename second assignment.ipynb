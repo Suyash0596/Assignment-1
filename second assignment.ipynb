{
 "cells": [
  {
   "cell_type": "markdown",
   "id": "4c24eb78-93fa-4a60-9500-83a96d48855a",
   "metadata": {},
   "source": [
    "1. \"\"\" \"\"\"- for multiple line and ###- for single line"
   ]
  },
  {
   "cell_type": "markdown",
   "id": "7e6d8477-4b33-45da-b5cb-c0ca0fea0cc7",
   "metadata": {},
   "source": [
    "2.  Variable are used for storing the data\n",
    "Example str1=\"PWSKILLS\""
   ]
  },
  {
   "cell_type": "code",
   "execution_count": null,
   "id": "9ffde17f-7f07-41cc-911a-b075a940dada",
   "metadata": {},
   "outputs": [],
   "source": [
    "str1=12345"
   ]
  },
  {
   "cell_type": "code",
   "execution_count": 7,
   "id": "546daec1-c19f-4094-a0a0-36c1b356254c",
   "metadata": {},
   "outputs": [
    {
     "data": {
      "text/plain": [
       "int"
      ]
     },
     "execution_count": 7,
     "metadata": {},
     "output_type": "execute_result"
    }
   ],
   "source": [
    "type(str1)"
   ]
  },
  {
   "cell_type": "code",
   "execution_count": 8,
   "id": "df92e190-58d8-4a4d-bc5b-ce95fbabb0a2",
   "metadata": {},
   "outputs": [
    {
     "data": {
      "text/plain": [
       "str"
      ]
     },
     "execution_count": 8,
     "metadata": {},
     "output_type": "execute_result"
    }
   ],
   "source": [
    "type(str(str1))"
   ]
  },
  {
   "cell_type": "markdown",
   "id": "ea566d38-3532-438b-8f52-4dde255e2ea6",
   "metadata": {},
   "source": [
    "5."
   ]
  },
  {
   "cell_type": "code",
   "execution_count": 14,
   "id": "ed95ad5b-6a3d-4c95-9e7c-9ae619c30a0e",
   "metadata": {},
   "outputs": [
    {
     "data": {
      "text/plain": [
       "[2, 3]"
      ]
     },
     "execution_count": 14,
     "metadata": {},
     "output_type": "execute_result"
    }
   ],
   "source": [
    "my_list = [1, 2, 3, 4, 5]\n",
    "my_list[1:3]\n"
   ]
  },
  {
   "cell_type": "markdown",
   "id": "61362c7f-e290-4557-8f6d-3df1acc2e42c",
   "metadata": {},
   "source": [
    "6."
   ]
  },
  {
   "cell_type": "markdown",
   "id": "cf4ce765-9d9f-4a88-bfbb-493bb56a29b7",
   "metadata": {},
   "source": [
    "Complex number is the combination of real number and imaginery number, example 3+4i in which 3 is real and 4 is imaginery"
   ]
  },
  {
   "cell_type": "markdown",
   "id": "5e1e9e87-abcb-4641-8cc2-c35930ee5e5c",
   "metadata": {},
   "source": [
    "7."
   ]
  },
  {
   "cell_type": "code",
   "execution_count": 15,
   "id": "34e8e434-5fe7-4ccf-8b0a-cffa0611c3ff",
   "metadata": {},
   "outputs": [],
   "source": [
    "age=25"
   ]
  },
  {
   "cell_type": "code",
   "execution_count": 16,
   "id": "5a701939-eae4-451b-83de-b9bff0579588",
   "metadata": {},
   "outputs": [
    {
     "data": {
      "text/plain": [
       "25"
      ]
     },
     "execution_count": 16,
     "metadata": {},
     "output_type": "execute_result"
    }
   ],
   "source": [
    "age"
   ]
  },
  {
   "cell_type": "markdown",
   "id": "d12dc1e6-f494-4708-954e-2403408eaac3",
   "metadata": {},
   "source": [
    "8.0"
   ]
  },
  {
   "cell_type": "code",
   "execution_count": 17,
   "id": "20a714b6-830f-4945-bda3-f7159902eb89",
   "metadata": {},
   "outputs": [
    {
     "data": {
      "text/plain": [
       "float"
      ]
     },
     "execution_count": 17,
     "metadata": {},
     "output_type": "execute_result"
    }
   ],
   "source": [
    "price=9.99\n",
    "type(price)"
   ]
  },
  {
   "cell_type": "markdown",
   "id": "98c58e6c-83bf-46ad-b394-31bf033a3d26",
   "metadata": {},
   "source": [
    "9.0"
   ]
  },
  {
   "cell_type": "code",
   "execution_count": 18,
   "id": "7a12f18d-4278-4327-aafb-85a29a0cad3c",
   "metadata": {},
   "outputs": [
    {
     "data": {
      "text/plain": [
       "'suyash'"
      ]
     },
     "execution_count": 18,
     "metadata": {},
     "output_type": "execute_result"
    }
   ],
   "source": [
    "name='suyash'\n",
    "name"
   ]
  },
  {
   "cell_type": "markdown",
   "id": "839eb026-4f99-414e-896f-ec8f93628ad1",
   "metadata": {},
   "source": [
    "10."
   ]
  },
  {
   "cell_type": "code",
   "execution_count": 25,
   "id": "cf406944-5050-4a92-a161-7522a192aa0d",
   "metadata": {},
   "outputs": [
    {
     "data": {
      "text/plain": [
       "'World!'"
      ]
     },
     "execution_count": 25,
     "metadata": {},
     "output_type": "execute_result"
    }
   ],
   "source": [
    "asd=\"Hello, World!\"\n",
    "asd[7:13]"
   ]
  },
  {
   "cell_type": "code",
   "execution_count": null,
   "id": "599ab2be-54df-4189-8482-629be6da1b0d",
   "metadata": {},
   "outputs": [],
   "source": []
  }
 ],
 "metadata": {
  "kernelspec": {
   "display_name": "Python 3 (ipykernel)",
   "language": "python",
   "name": "python3"
  },
  "language_info": {
   "codemirror_mode": {
    "name": "ipython",
    "version": 3
   },
   "file_extension": ".py",
   "mimetype": "text/x-python",
   "name": "python",
   "nbconvert_exporter": "python",
   "pygments_lexer": "ipython3",
   "version": "3.10.8"
  }
 },
 "nbformat": 4,
 "nbformat_minor": 5
}
